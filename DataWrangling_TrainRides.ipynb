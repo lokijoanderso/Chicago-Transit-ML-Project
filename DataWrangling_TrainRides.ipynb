{
 "cells": [
  {
   "cell_type": "code",
   "execution_count": 1,
   "metadata": {},
   "outputs": [],
   "source": [
    "import pandas as pd\n",
    "import geopandas as gpd\n",
    "from shapely.geometry import Point"
   ]
  },
  {
   "cell_type": "code",
   "execution_count": 2,
   "metadata": {},
   "outputs": [],
   "source": [
    "# in meters\n",
    "DISTANCE_FROM_STATION = 2000"
   ]
  },
  {
   "cell_type": "code",
   "execution_count": 3,
   "metadata": {},
   "outputs": [],
   "source": [
    "areas = gpd.read_file(\"data/Boundaries - Neighborhoods.geojson\")\n",
    "block_groups = gpd.read_file(\"data/Boundaries - Census Blocks - 2010.geojson\")"
   ]
  },
  {
   "cell_type": "code",
   "execution_count": 4,
   "metadata": {},
   "outputs": [
    {
     "data": {
      "text/html": [
       "<div>\n",
       "<style scoped>\n",
       "    .dataframe tbody tr th:only-of-type {\n",
       "        vertical-align: middle;\n",
       "    }\n",
       "\n",
       "    .dataframe tbody tr th {\n",
       "        vertical-align: top;\n",
       "    }\n",
       "\n",
       "    .dataframe thead th {\n",
       "        text-align: right;\n",
       "    }\n",
       "</style>\n",
       "<table border=\"1\" class=\"dataframe\">\n",
       "  <thead>\n",
       "    <tr style=\"text-align: right;\">\n",
       "      <th></th>\n",
       "      <th>pri_neigh</th>\n",
       "      <th>sec_neigh</th>\n",
       "      <th>shape_area</th>\n",
       "      <th>shape_len</th>\n",
       "      <th>geometry</th>\n",
       "    </tr>\n",
       "  </thead>\n",
       "  <tbody>\n",
       "    <tr>\n",
       "      <th>0</th>\n",
       "      <td>Grand Boulevard</td>\n",
       "      <td>BRONZEVILLE</td>\n",
       "      <td>48492503.1554</td>\n",
       "      <td>28196.837157</td>\n",
       "      <td>MULTIPOLYGON (((-87.60671 41.81681, -87.60670 ...</td>\n",
       "    </tr>\n",
       "    <tr>\n",
       "      <th>1</th>\n",
       "      <td>Printers Row</td>\n",
       "      <td>PRINTERS ROW</td>\n",
       "      <td>2162137.97139</td>\n",
       "      <td>6864.247156</td>\n",
       "      <td>MULTIPOLYGON (((-87.62761 41.87437, -87.62760 ...</td>\n",
       "    </tr>\n",
       "    <tr>\n",
       "      <th>2</th>\n",
       "      <td>United Center</td>\n",
       "      <td>UNITED CENTER</td>\n",
       "      <td>32520512.7053</td>\n",
       "      <td>23101.363745</td>\n",
       "      <td>MULTIPOLYGON (((-87.66707 41.88885, -87.66707 ...</td>\n",
       "    </tr>\n",
       "    <tr>\n",
       "      <th>3</th>\n",
       "      <td>Sheffield &amp; DePaul</td>\n",
       "      <td>SHEFFIELD &amp; DEPAUL</td>\n",
       "      <td>10482592.2987</td>\n",
       "      <td>13227.049745</td>\n",
       "      <td>MULTIPOLYGON (((-87.65833 41.92166, -87.65835 ...</td>\n",
       "    </tr>\n",
       "    <tr>\n",
       "      <th>4</th>\n",
       "      <td>Humboldt Park</td>\n",
       "      <td>HUMBOLDT PARK</td>\n",
       "      <td>125010425.593</td>\n",
       "      <td>46126.751351</td>\n",
       "      <td>MULTIPOLYGON (((-87.74060 41.88782, -87.74060 ...</td>\n",
       "    </tr>\n",
       "  </tbody>\n",
       "</table>\n",
       "</div>"
      ],
      "text/plain": [
       "            pri_neigh           sec_neigh     shape_area     shape_len  \\\n",
       "0     Grand Boulevard         BRONZEVILLE  48492503.1554  28196.837157   \n",
       "1        Printers Row        PRINTERS ROW  2162137.97139   6864.247156   \n",
       "2       United Center       UNITED CENTER  32520512.7053  23101.363745   \n",
       "3  Sheffield & DePaul  SHEFFIELD & DEPAUL  10482592.2987  13227.049745   \n",
       "4       Humboldt Park       HUMBOLDT PARK  125010425.593  46126.751351   \n",
       "\n",
       "                                            geometry  \n",
       "0  MULTIPOLYGON (((-87.60671 41.81681, -87.60670 ...  \n",
       "1  MULTIPOLYGON (((-87.62761 41.87437, -87.62760 ...  \n",
       "2  MULTIPOLYGON (((-87.66707 41.88885, -87.66707 ...  \n",
       "3  MULTIPOLYGON (((-87.65833 41.92166, -87.65835 ...  \n",
       "4  MULTIPOLYGON (((-87.74060 41.88782, -87.74060 ...  "
      ]
     },
     "execution_count": 4,
     "metadata": {},
     "output_type": "execute_result"
    }
   ],
   "source": [
    "areas.head()"
   ]
  },
  {
   "cell_type": "code",
   "execution_count": 5,
   "metadata": {},
   "outputs": [
    {
     "data": {
      "text/html": [
       "<div>\n",
       "<style scoped>\n",
       "    .dataframe tbody tr th:only-of-type {\n",
       "        vertical-align: middle;\n",
       "    }\n",
       "\n",
       "    .dataframe tbody tr th {\n",
       "        vertical-align: top;\n",
       "    }\n",
       "\n",
       "    .dataframe thead th {\n",
       "        text-align: right;\n",
       "    }\n",
       "</style>\n",
       "<table border=\"1\" class=\"dataframe\">\n",
       "  <thead>\n",
       "    <tr style=\"text-align: right;\">\n",
       "      <th></th>\n",
       "      <th>statefp10</th>\n",
       "      <th>name10</th>\n",
       "      <th>blockce10</th>\n",
       "      <th>tract_bloc</th>\n",
       "      <th>geoid10</th>\n",
       "      <th>tractce10</th>\n",
       "      <th>countyfp10</th>\n",
       "      <th>geometry</th>\n",
       "    </tr>\n",
       "  </thead>\n",
       "  <tbody>\n",
       "    <tr>\n",
       "      <th>0</th>\n",
       "      <td>17</td>\n",
       "      <td>Block 2010</td>\n",
       "      <td>2010</td>\n",
       "      <td>6903002010</td>\n",
       "      <td>170316903002010</td>\n",
       "      <td>690300</td>\n",
       "      <td>031</td>\n",
       "      <td>MULTIPOLYGON (((-87.62907 41.76909, -87.62905 ...</td>\n",
       "    </tr>\n",
       "    <tr>\n",
       "      <th>1</th>\n",
       "      <td>17</td>\n",
       "      <td>Block 3007</td>\n",
       "      <td>3007</td>\n",
       "      <td>6809003007</td>\n",
       "      <td>170316809003007</td>\n",
       "      <td>680900</td>\n",
       "      <td>031</td>\n",
       "      <td>MULTIPOLYGON (((-87.63412 41.77447, -87.63410 ...</td>\n",
       "    </tr>\n",
       "    <tr>\n",
       "      <th>2</th>\n",
       "      <td>17</td>\n",
       "      <td>Block 3013</td>\n",
       "      <td>3013</td>\n",
       "      <td>6809003013</td>\n",
       "      <td>170316809003013</td>\n",
       "      <td>680900</td>\n",
       "      <td>031</td>\n",
       "      <td>MULTIPOLYGON (((-87.63485 41.77263, -87.63522 ...</td>\n",
       "    </tr>\n",
       "    <tr>\n",
       "      <th>3</th>\n",
       "      <td>17</td>\n",
       "      <td>Block 4019</td>\n",
       "      <td>4019</td>\n",
       "      <td>2909004019</td>\n",
       "      <td>170312909004019</td>\n",
       "      <td>290900</td>\n",
       "      <td>031</td>\n",
       "      <td>MULTIPOLYGON (((-87.73841 41.85913, -87.73842 ...</td>\n",
       "    </tr>\n",
       "    <tr>\n",
       "      <th>4</th>\n",
       "      <td>17</td>\n",
       "      <td>Block 4016</td>\n",
       "      <td>4016</td>\n",
       "      <td>2925004016</td>\n",
       "      <td>170312925004016</td>\n",
       "      <td>292500</td>\n",
       "      <td>031</td>\n",
       "      <td>MULTIPOLYGON (((-87.73217 41.85476, -87.73226 ...</td>\n",
       "    </tr>\n",
       "  </tbody>\n",
       "</table>\n",
       "</div>"
      ],
      "text/plain": [
       "  statefp10      name10 blockce10  tract_bloc          geoid10 tractce10  \\\n",
       "0        17  Block 2010      2010  6903002010  170316903002010    690300   \n",
       "1        17  Block 3007      3007  6809003007  170316809003007    680900   \n",
       "2        17  Block 3013      3013  6809003013  170316809003013    680900   \n",
       "3        17  Block 4019      4019  2909004019  170312909004019    290900   \n",
       "4        17  Block 4016      4016  2925004016  170312925004016    292500   \n",
       "\n",
       "  countyfp10                                           geometry  \n",
       "0        031  MULTIPOLYGON (((-87.62907 41.76909, -87.62905 ...  \n",
       "1        031  MULTIPOLYGON (((-87.63412 41.77447, -87.63410 ...  \n",
       "2        031  MULTIPOLYGON (((-87.63485 41.77263, -87.63522 ...  \n",
       "3        031  MULTIPOLYGON (((-87.73841 41.85913, -87.73842 ...  \n",
       "4        031  MULTIPOLYGON (((-87.73217 41.85476, -87.73226 ...  "
      ]
     },
     "execution_count": 5,
     "metadata": {},
     "output_type": "execute_result"
    }
   ],
   "source": [
    "block_groups.head()"
   ]
  },
  {
   "cell_type": "code",
   "execution_count": 6,
   "metadata": {},
   "outputs": [
    {
     "data": {
      "text/plain": [
       "(46357, 8)"
      ]
     },
     "execution_count": 6,
     "metadata": {},
     "output_type": "execute_result"
    }
   ],
   "source": [
    "block_groups.shape"
   ]
  },
  {
   "cell_type": "code",
   "execution_count": 7,
   "metadata": {},
   "outputs": [
    {
     "data": {
      "text/html": [
       "<div>\n",
       "<style scoped>\n",
       "    .dataframe tbody tr th:only-of-type {\n",
       "        vertical-align: middle;\n",
       "    }\n",
       "\n",
       "    .dataframe tbody tr th {\n",
       "        vertical-align: top;\n",
       "    }\n",
       "\n",
       "    .dataframe thead th {\n",
       "        text-align: right;\n",
       "    }\n",
       "</style>\n",
       "<table border=\"1\" class=\"dataframe\">\n",
       "  <thead>\n",
       "    <tr style=\"text-align: right;\">\n",
       "      <th></th>\n",
       "      <th>blockgroup</th>\n",
       "      <th>geometry</th>\n",
       "      <th>pri_neigh</th>\n",
       "    </tr>\n",
       "  </thead>\n",
       "  <tbody>\n",
       "    <tr>\n",
       "      <th>0</th>\n",
       "      <td>170310101001</td>\n",
       "      <td>POLYGON ((-87.67009 42.02115, -87.67047 42.021...</td>\n",
       "      <td>Rogers Park</td>\n",
       "    </tr>\n",
       "    <tr>\n",
       "      <th>1</th>\n",
       "      <td>170310101002</td>\n",
       "      <td>POLYGON ((-87.66950 42.01936, -87.66963 42.019...</td>\n",
       "      <td>Rogers Park</td>\n",
       "    </tr>\n",
       "    <tr>\n",
       "      <th>2</th>\n",
       "      <td>170310101003</td>\n",
       "      <td>POLYGON ((-87.66681 42.01924, -87.66780 42.019...</td>\n",
       "      <td>Rogers Park</td>\n",
       "    </tr>\n",
       "    <tr>\n",
       "      <th>3</th>\n",
       "      <td>170310102011</td>\n",
       "      <td>POLYGON ((-87.68234 42.01250, -87.68268 42.012...</td>\n",
       "      <td>Rogers Park</td>\n",
       "    </tr>\n",
       "    <tr>\n",
       "      <th>4</th>\n",
       "      <td>170310102012</td>\n",
       "      <td>POLYGON ((-87.67972 42.01392, -87.68003 42.013...</td>\n",
       "      <td>Rogers Park</td>\n",
       "    </tr>\n",
       "  </tbody>\n",
       "</table>\n",
       "</div>"
      ],
      "text/plain": [
       "     blockgroup                                           geometry  \\\n",
       "0  170310101001  POLYGON ((-87.67009 42.02115, -87.67047 42.021...   \n",
       "1  170310101002  POLYGON ((-87.66950 42.01936, -87.66963 42.019...   \n",
       "2  170310101003  POLYGON ((-87.66681 42.01924, -87.66780 42.019...   \n",
       "3  170310102011  POLYGON ((-87.68234 42.01250, -87.68268 42.012...   \n",
       "4  170310102012  POLYGON ((-87.67972 42.01392, -87.68003 42.013...   \n",
       "\n",
       "     pri_neigh  \n",
       "0  Rogers Park  \n",
       "1  Rogers Park  \n",
       "2  Rogers Park  \n",
       "3  Rogers Park  \n",
       "4  Rogers Park  "
      ]
     },
     "execution_count": 7,
     "metadata": {},
     "output_type": "execute_result"
    }
   ],
   "source": [
    "block_groups_areas = block_groups.copy()\n",
    "block_groups_areas[\"blockgroup\"] = block_groups_areas[\"geoid10\"].str[0:12]\n",
    "block_groups_areas = block_groups_areas[[\"geometry\", \"blockgroup\"]]\n",
    "\n",
    "block_groups_areas = gpd.sjoin(block_groups_areas, areas, how=\"left\", op='intersects')\n",
    "block_groups_areas = block_groups_areas.dissolve(by='blockgroup', aggfunc='first')\n",
    "\n",
    "block_groups_areas = block_groups_areas[[\"geometry\", \"pri_neigh\"]].reset_index()\n",
    "block_groups_areas.head()"
   ]
  },
  {
   "cell_type": "code",
   "execution_count": 8,
   "metadata": {},
   "outputs": [
    {
     "data": {
      "text/plain": [
       "{'init': 'epsg:4326'}"
      ]
     },
     "execution_count": 8,
     "metadata": {},
     "output_type": "execute_result"
    }
   ],
   "source": [
    "block_groups_areas.crs"
   ]
  },
  {
   "cell_type": "code",
   "execution_count": 9,
   "metadata": {},
   "outputs": [
    {
     "data": {
      "text/html": [
       "<div>\n",
       "<style scoped>\n",
       "    .dataframe tbody tr th:only-of-type {\n",
       "        vertical-align: middle;\n",
       "    }\n",
       "\n",
       "    .dataframe tbody tr th {\n",
       "        vertical-align: top;\n",
       "    }\n",
       "\n",
       "    .dataframe thead th {\n",
       "        text-align: right;\n",
       "    }\n",
       "</style>\n",
       "<table border=\"1\" class=\"dataframe\">\n",
       "  <thead>\n",
       "    <tr style=\"text-align: right;\">\n",
       "      <th></th>\n",
       "      <th>station_id</th>\n",
       "      <th>station_name</th>\n",
       "      <th>geometry</th>\n",
       "    </tr>\n",
       "  </thead>\n",
       "  <tbody>\n",
       "    <tr>\n",
       "      <th>0</th>\n",
       "      <td>40830</td>\n",
       "      <td>18th (Pink Line)</td>\n",
       "      <td>POINT (-87.66915 41.85791)</td>\n",
       "    </tr>\n",
       "    <tr>\n",
       "      <th>2</th>\n",
       "      <td>40120</td>\n",
       "      <td>35th/Archer (Orange Line)</td>\n",
       "      <td>POINT (-87.68062 41.82935)</td>\n",
       "    </tr>\n",
       "    <tr>\n",
       "      <th>4</th>\n",
       "      <td>41120</td>\n",
       "      <td>35th-Bronzeville-IIT (Green Line)</td>\n",
       "      <td>POINT (-87.62583 41.83168)</td>\n",
       "    </tr>\n",
       "    <tr>\n",
       "      <th>6</th>\n",
       "      <td>41270</td>\n",
       "      <td>43rd (Green Line)</td>\n",
       "      <td>POINT (-87.61902 41.81646)</td>\n",
       "    </tr>\n",
       "    <tr>\n",
       "      <th>8</th>\n",
       "      <td>40130</td>\n",
       "      <td>51st (Green Line)</td>\n",
       "      <td>POINT (-87.61849 41.80209)</td>\n",
       "    </tr>\n",
       "  </tbody>\n",
       "</table>\n",
       "</div>"
      ],
      "text/plain": [
       "   station_id                       station_name                    geometry\n",
       "0       40830                   18th (Pink Line)  POINT (-87.66915 41.85791)\n",
       "2       40120          35th/Archer (Orange Line)  POINT (-87.68062 41.82935)\n",
       "4       41120  35th-Bronzeville-IIT (Green Line)  POINT (-87.62583 41.83168)\n",
       "6       41270                  43rd (Green Line)  POINT (-87.61902 41.81646)\n",
       "8       40130                  51st (Green Line)  POINT (-87.61849 41.80209)"
      ]
     },
     "execution_count": 9,
     "metadata": {},
     "output_type": "execute_result"
    }
   ],
   "source": [
    "stations = (\n",
    "    pd.read_csv(\n",
    "        \"data/CTA_L_Stops.csv\",\n",
    "        usecols=[\"STATION_DESCRIPTIVE_NAME\", \"MAP_ID\", \"Location\"],\n",
    "    )\n",
    "    .drop_duplicates(\"MAP_ID\")\n",
    "    .rename(\n",
    "        columns={\"STATION_DESCRIPTIVE_NAME\": \"station_name\", \"MAP_ID\": \"station_id\"}\n",
    "    )\n",
    ")\n",
    "stations_points = []\n",
    "for location in stations[\"Location\"]:\n",
    "    lon, lat = [float(coord) for coord in location.strip(\"()\").split(\", \")]\n",
    "    stations_points.append(Point(lat, lon))\n",
    "stations = gpd.GeoDataFrame(stations, geometry=stations_points)[\n",
    "    [\"station_id\", \"station_name\", \"geometry\"]\n",
    "]\n",
    "stations.crs = {'init': 'epsg:4326'}\n",
    "stations.head()"
   ]
  },
  {
   "cell_type": "code",
   "execution_count": 10,
   "metadata": {},
   "outputs": [
    {
     "data": {
      "text/plain": [
       "(143, 3)"
      ]
     },
     "execution_count": 10,
     "metadata": {},
     "output_type": "execute_result"
    }
   ],
   "source": [
    "stations.shape"
   ]
  },
  {
   "cell_type": "code",
   "execution_count": 11,
   "metadata": {},
   "outputs": [],
   "source": [
    "stations = stations.to_crs({\"init\": \"epsg:26971\"})\n",
    "block_groups_areas = block_groups_areas.to_crs({\"init\": \"epsg:26971\"})"
   ]
  },
  {
   "cell_type": "code",
   "execution_count": 12,
   "metadata": {},
   "outputs": [
    {
     "data": {
      "text/html": [
       "<div>\n",
       "<style scoped>\n",
       "    .dataframe tbody tr th:only-of-type {\n",
       "        vertical-align: middle;\n",
       "    }\n",
       "\n",
       "    .dataframe tbody tr th {\n",
       "        vertical-align: top;\n",
       "    }\n",
       "\n",
       "    .dataframe thead th {\n",
       "        text-align: right;\n",
       "    }\n",
       "</style>\n",
       "<table border=\"1\" class=\"dataframe\">\n",
       "  <thead>\n",
       "    <tr style=\"text-align: right;\">\n",
       "      <th></th>\n",
       "      <th>station_id</th>\n",
       "      <th>station_name</th>\n",
       "      <th>blockgroup</th>\n",
       "    </tr>\n",
       "  </thead>\n",
       "  <tbody>\n",
       "    <tr>\n",
       "      <th>0</th>\n",
       "      <td>40830</td>\n",
       "      <td>18th (Pink Line)</td>\n",
       "      <td>170312831001</td>\n",
       "    </tr>\n",
       "    <tr>\n",
       "      <th>1</th>\n",
       "      <td>40830</td>\n",
       "      <td>18th (Pink Line)</td>\n",
       "      <td>170312831002</td>\n",
       "    </tr>\n",
       "    <tr>\n",
       "      <th>2</th>\n",
       "      <td>40830</td>\n",
       "      <td>18th (Pink Line)</td>\n",
       "      <td>170312832001</td>\n",
       "    </tr>\n",
       "    <tr>\n",
       "      <th>3</th>\n",
       "      <td>40830</td>\n",
       "      <td>18th (Pink Line)</td>\n",
       "      <td>170312838001</td>\n",
       "    </tr>\n",
       "    <tr>\n",
       "      <th>4</th>\n",
       "      <td>40830</td>\n",
       "      <td>18th (Pink Line)</td>\n",
       "      <td>170312838002</td>\n",
       "    </tr>\n",
       "  </tbody>\n",
       "</table>\n",
       "</div>"
      ],
      "text/plain": [
       "   station_id      station_name    blockgroup\n",
       "0       40830  18th (Pink Line)  170312831001\n",
       "1       40830  18th (Pink Line)  170312831002\n",
       "2       40830  18th (Pink Line)  170312832001\n",
       "3       40830  18th (Pink Line)  170312838001\n",
       "4       40830  18th (Pink Line)  170312838002"
      ]
     },
     "execution_count": 12,
     "metadata": {},
     "output_type": "execute_result"
    }
   ],
   "source": [
    "stations_blockgroups = []\n",
    "for station in stations.itertuples():\n",
    "    for area in block_groups_areas.itertuples():\n",
    "        # distances are in meters, so we look for blockgroups that are at most 1km away\n",
    "        dist = station.geometry.hausdorff_distance(area.geometry)\n",
    "        if dist <= DISTANCE_FROM_STATION:\n",
    "            stations_blockgroups.append(\n",
    "                {\n",
    "                    \"station_id\": station.station_id,\n",
    "                    \"station_name\": station.station_name,\n",
    "                    \"blockgroup\": area.blockgroup\n",
    "                }\n",
    "            )\n",
    "stations_blockgroups = pd.DataFrame(stations_blockgroups)\n",
    "stations_blockgroups.head()"
   ]
  },
  {
   "cell_type": "code",
   "execution_count": 13,
   "metadata": {},
   "outputs": [
    {
     "data": {
      "text/plain": [
       "(1340,)"
      ]
     },
     "execution_count": 13,
     "metadata": {},
     "output_type": "execute_result"
    }
   ],
   "source": [
    "stations_blockgroups[\"blockgroup\"].unique().shape"
   ]
  },
  {
   "cell_type": "code",
   "execution_count": 14,
   "metadata": {},
   "outputs": [
    {
     "data": {
      "text/html": [
       "<div>\n",
       "<style scoped>\n",
       "    .dataframe tbody tr th:only-of-type {\n",
       "        vertical-align: middle;\n",
       "    }\n",
       "\n",
       "    .dataframe tbody tr th {\n",
       "        vertical-align: top;\n",
       "    }\n",
       "\n",
       "    .dataframe thead th {\n",
       "        text-align: right;\n",
       "    }\n",
       "</style>\n",
       "<table border=\"1\" class=\"dataframe\">\n",
       "  <thead>\n",
       "    <tr style=\"text-align: right;\">\n",
       "      <th></th>\n",
       "      <th>station_id</th>\n",
       "      <th>station_name</th>\n",
       "      <th>blockgroup</th>\n",
       "      <th>month_beginning</th>\n",
       "      <th>train_rides</th>\n",
       "    </tr>\n",
       "  </thead>\n",
       "  <tbody>\n",
       "    <tr>\n",
       "      <th>0</th>\n",
       "      <td>40830</td>\n",
       "      <td>18th (Pink Line)</td>\n",
       "      <td>170312831001</td>\n",
       "      <td>01/01/2001</td>\n",
       "      <td>21301</td>\n",
       "    </tr>\n",
       "    <tr>\n",
       "      <th>1</th>\n",
       "      <td>40830</td>\n",
       "      <td>18th (Pink Line)</td>\n",
       "      <td>170312831001</td>\n",
       "      <td>02/01/2001</td>\n",
       "      <td>19955</td>\n",
       "    </tr>\n",
       "    <tr>\n",
       "      <th>2</th>\n",
       "      <td>40830</td>\n",
       "      <td>18th (Pink Line)</td>\n",
       "      <td>170312831001</td>\n",
       "      <td>03/01/2001</td>\n",
       "      <td>21998</td>\n",
       "    </tr>\n",
       "    <tr>\n",
       "      <th>3</th>\n",
       "      <td>40830</td>\n",
       "      <td>18th (Pink Line)</td>\n",
       "      <td>170312831001</td>\n",
       "      <td>04/01/2001</td>\n",
       "      <td>21297</td>\n",
       "    </tr>\n",
       "    <tr>\n",
       "      <th>4</th>\n",
       "      <td>40830</td>\n",
       "      <td>18th (Pink Line)</td>\n",
       "      <td>170312831001</td>\n",
       "      <td>05/01/2001</td>\n",
       "      <td>22675</td>\n",
       "    </tr>\n",
       "  </tbody>\n",
       "</table>\n",
       "</div>"
      ],
      "text/plain": [
       "   station_id      station_name    blockgroup month_beginning  train_rides\n",
       "0       40830  18th (Pink Line)  170312831001      01/01/2001        21301\n",
       "1       40830  18th (Pink Line)  170312831001      02/01/2001        19955\n",
       "2       40830  18th (Pink Line)  170312831001      03/01/2001        21998\n",
       "3       40830  18th (Pink Line)  170312831001      04/01/2001        21297\n",
       "4       40830  18th (Pink Line)  170312831001      05/01/2001        22675"
      ]
     },
     "execution_count": 14,
     "metadata": {},
     "output_type": "execute_result"
    }
   ],
   "source": [
    "ridership = pd.read_csv(\n",
    "    \"data/CTA_L_Ridership_Monthly_Day-Type.csv\",\n",
    "    usecols=[\"station_id\", \"month_beginning\", \"monthtotal\"]\n",
    ").rename(columns={\"monthtotal\": \"train_rides\"})\n",
    "stations_ridership = pd.merge(stations_blockgroups, ridership, on=\"station_id\")\n",
    "stations_ridership.head()"
   ]
  },
  {
   "cell_type": "code",
   "execution_count": 15,
   "metadata": {},
   "outputs": [
    {
     "data": {
      "text/plain": [
       "(1208571, 5)"
      ]
     },
     "execution_count": 15,
     "metadata": {},
     "output_type": "execute_result"
    }
   ],
   "source": [
    "stations_ridership.shape"
   ]
  },
  {
   "cell_type": "code",
   "execution_count": 16,
   "metadata": {},
   "outputs": [
    {
     "data": {
      "text/html": [
       "<div>\n",
       "<style scoped>\n",
       "    .dataframe tbody tr th:only-of-type {\n",
       "        vertical-align: middle;\n",
       "    }\n",
       "\n",
       "    .dataframe tbody tr th {\n",
       "        vertical-align: top;\n",
       "    }\n",
       "\n",
       "    .dataframe thead th {\n",
       "        text-align: right;\n",
       "    }\n",
       "</style>\n",
       "<table border=\"1\" class=\"dataframe\">\n",
       "  <thead>\n",
       "    <tr style=\"text-align: right;\">\n",
       "      <th></th>\n",
       "      <th>blockgroup</th>\n",
       "      <th>month_beginning</th>\n",
       "      <th>train_rides</th>\n",
       "    </tr>\n",
       "  </thead>\n",
       "  <tbody>\n",
       "    <tr>\n",
       "      <th>0</th>\n",
       "      <td>170310101001</td>\n",
       "      <td>01/01/2001</td>\n",
       "      <td>377399</td>\n",
       "    </tr>\n",
       "    <tr>\n",
       "      <th>1</th>\n",
       "      <td>170310101001</td>\n",
       "      <td>01/01/2002</td>\n",
       "      <td>356035</td>\n",
       "    </tr>\n",
       "    <tr>\n",
       "      <th>2</th>\n",
       "      <td>170310101001</td>\n",
       "      <td>01/01/2003</td>\n",
       "      <td>340125</td>\n",
       "    </tr>\n",
       "    <tr>\n",
       "      <th>3</th>\n",
       "      <td>170310101001</td>\n",
       "      <td>01/01/2004</td>\n",
       "      <td>324526</td>\n",
       "    </tr>\n",
       "    <tr>\n",
       "      <th>4</th>\n",
       "      <td>170310101001</td>\n",
       "      <td>01/01/2005</td>\n",
       "      <td>325312</td>\n",
       "    </tr>\n",
       "  </tbody>\n",
       "</table>\n",
       "</div>"
      ],
      "text/plain": [
       "     blockgroup month_beginning  train_rides\n",
       "0  170310101001      01/01/2001       377399\n",
       "1  170310101001      01/01/2002       356035\n",
       "2  170310101001      01/01/2003       340125\n",
       "3  170310101001      01/01/2004       324526\n",
       "4  170310101001      01/01/2005       325312"
      ]
     },
     "execution_count": 16,
     "metadata": {},
     "output_type": "execute_result"
    }
   ],
   "source": [
    "blockgroup_ridership = stations_ridership.groupby(\n",
    "    [\"blockgroup\", \"month_beginning\"],\n",
    "    as_index=False\n",
    ")[[\"blockgroup\", \"month_beginning\", \"train_rides\"]].sum()\n",
    "blockgroup_ridership.head()"
   ]
  },
  {
   "cell_type": "code",
   "execution_count": 17,
   "metadata": {},
   "outputs": [
    {
     "data": {
      "text/plain": [
       "(1340,)"
      ]
     },
     "execution_count": 17,
     "metadata": {},
     "output_type": "execute_result"
    }
   ],
   "source": [
    "blockgroup_ridership[\"blockgroup\"].unique().shape"
   ]
  },
  {
   "cell_type": "code",
   "execution_count": 18,
   "metadata": {},
   "outputs": [],
   "source": [
    "blockgroup_ridership.to_csv(\"data/CTA_L_Ridership_Monthly_by_Blockgroup.csv\", index=False)"
   ]
  },
  {
   "cell_type": "code",
   "execution_count": 19,
   "metadata": {},
   "outputs": [],
   "source": [
    "# TODO; this takes a while\n",
    "# divvy = gpd.read_file(\"data/Divvy_Trips.csv\", parse_dates=[\"START TIME\"])\n",
    "# divvy.head()"
   ]
  }
 ],
 "metadata": {
  "kernelspec": {
   "display_name": "Python 3",
   "language": "python",
   "name": "python3"
  },
  "language_info": {
   "codemirror_mode": {
    "name": "ipython",
    "version": 3
   },
   "file_extension": ".py",
   "mimetype": "text/x-python",
   "name": "python",
   "nbconvert_exporter": "python",
   "pygments_lexer": "ipython3",
   "version": "3.7.6"
  }
 },
 "nbformat": 4,
 "nbformat_minor": 4
}
